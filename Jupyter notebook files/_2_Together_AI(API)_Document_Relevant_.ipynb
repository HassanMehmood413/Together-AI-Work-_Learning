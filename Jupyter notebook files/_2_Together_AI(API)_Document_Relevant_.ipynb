{
  "nbformat": 4,
  "nbformat_minor": 0,
  "metadata": {
    "colab": {
      "provenance": [],
      "authorship_tag": "ABX9TyNmEPlXg8QGUtY8pwNpAQQO",
      "include_colab_link": true
    },
    "kernelspec": {
      "name": "python3",
      "display_name": "Python 3"
    },
    "language_info": {
      "name": "python"
    }
  },
  "cells": [
    {
      "cell_type": "markdown",
      "metadata": {
        "id": "view-in-github",
        "colab_type": "text"
      },
      "source": [
        "<a href=\"https://colab.research.google.com/github/HassanMehmood413/Together-AI-Work-_Learning/blob/main/_2_Together_AI(API)_Document_Relevant_.ipynb\" target=\"_parent\"><img src=\"https://colab.research.google.com/assets/colab-badge.svg\" alt=\"Open In Colab\"/></a>"
      ]
    },
    {
      "cell_type": "markdown",
      "source": [
        "# This model extracts the relevant information related to the query that is given by user. This model is get from Together AI and the api key is also get from Together AI\n",
        "\n",
        "***model*** = \"Salesforce/Llama-Rank-V1\"  \n",
        "\n",
        "*    Go to Together AI , make account\n",
        "*   Go to models and check the models\n",
        "*   When you click on specific model, a documentation page is open or you can also open documentation page by your own\n",
        "*   In the documentation page , you will see an api key option, click on it and get your api key with $5:00 credits.\n",
        "\n",
        "\n",
        "\n",
        "# ***IDEA***\n",
        "You can add a feature in your app when user put its large document and wants the relevant information in the document so he can simple give the query can gets its relevant data from the document.\n",
        "\n",
        "\n",
        "\n"
      ],
      "metadata": {
        "id": "NlHr5FEU936-"
      }
    },
    {
      "cell_type": "code",
      "execution_count": 2,
      "metadata": {
        "colab": {
          "base_uri": "https://localhost:8080/"
        },
        "collapsed": true,
        "id": "QsOPTKPv68Jg",
        "outputId": "8791b3c1-e70a-40b4-b5f4-97e945f12e5f"
      },
      "outputs": [
        {
          "output_type": "stream",
          "name": "stdout",
          "text": [
            "Requirement already satisfied: together in /usr/local/lib/python3.10/dist-packages (1.2.12)\n",
            "Requirement already satisfied: aiohttp<4.0.0,>=3.9.3 in /usr/local/lib/python3.10/dist-packages (from together) (3.10.5)\n",
            "Requirement already satisfied: click<9.0.0,>=8.1.7 in /usr/local/lib/python3.10/dist-packages (from together) (8.1.7)\n",
            "Requirement already satisfied: eval-type-backport<0.3.0,>=0.1.3 in /usr/local/lib/python3.10/dist-packages (from together) (0.2.0)\n",
            "Requirement already satisfied: filelock<4.0.0,>=3.13.1 in /usr/local/lib/python3.10/dist-packages (from together) (3.16.0)\n",
            "Requirement already satisfied: numpy>=1.23.5 in /usr/local/lib/python3.10/dist-packages (from together) (1.26.4)\n",
            "Requirement already satisfied: pillow<11.0.0,>=10.3.0 in /usr/local/lib/python3.10/dist-packages (from together) (10.4.0)\n",
            "Requirement already satisfied: pyarrow>=10.0.1 in /usr/local/lib/python3.10/dist-packages (from together) (14.0.2)\n",
            "Requirement already satisfied: pydantic<3.0.0,>=2.6.3 in /usr/local/lib/python3.10/dist-packages (from together) (2.9.2)\n",
            "Requirement already satisfied: requests<3.0.0,>=2.31.0 in /usr/local/lib/python3.10/dist-packages (from together) (2.32.3)\n",
            "Requirement already satisfied: tabulate<0.10.0,>=0.9.0 in /usr/local/lib/python3.10/dist-packages (from together) (0.9.0)\n",
            "Requirement already satisfied: tqdm<5.0.0,>=4.66.2 in /usr/local/lib/python3.10/dist-packages (from together) (4.66.5)\n",
            "Requirement already satisfied: typer<0.13,>=0.9 in /usr/local/lib/python3.10/dist-packages (from together) (0.12.5)\n",
            "Requirement already satisfied: aiohappyeyeballs>=2.3.0 in /usr/local/lib/python3.10/dist-packages (from aiohttp<4.0.0,>=3.9.3->together) (2.4.0)\n",
            "Requirement already satisfied: aiosignal>=1.1.2 in /usr/local/lib/python3.10/dist-packages (from aiohttp<4.0.0,>=3.9.3->together) (1.3.1)\n",
            "Requirement already satisfied: attrs>=17.3.0 in /usr/local/lib/python3.10/dist-packages (from aiohttp<4.0.0,>=3.9.3->together) (24.2.0)\n",
            "Requirement already satisfied: frozenlist>=1.1.1 in /usr/local/lib/python3.10/dist-packages (from aiohttp<4.0.0,>=3.9.3->together) (1.4.1)\n",
            "Requirement already satisfied: multidict<7.0,>=4.5 in /usr/local/lib/python3.10/dist-packages (from aiohttp<4.0.0,>=3.9.3->together) (6.1.0)\n",
            "Requirement already satisfied: yarl<2.0,>=1.0 in /usr/local/lib/python3.10/dist-packages (from aiohttp<4.0.0,>=3.9.3->together) (1.11.1)\n",
            "Requirement already satisfied: async-timeout<5.0,>=4.0 in /usr/local/lib/python3.10/dist-packages (from aiohttp<4.0.0,>=3.9.3->together) (4.0.3)\n",
            "Requirement already satisfied: annotated-types>=0.6.0 in /usr/local/lib/python3.10/dist-packages (from pydantic<3.0.0,>=2.6.3->together) (0.7.0)\n",
            "Requirement already satisfied: pydantic-core==2.23.4 in /usr/local/lib/python3.10/dist-packages (from pydantic<3.0.0,>=2.6.3->together) (2.23.4)\n",
            "Requirement already satisfied: typing-extensions>=4.6.1 in /usr/local/lib/python3.10/dist-packages (from pydantic<3.0.0,>=2.6.3->together) (4.12.2)\n",
            "Requirement already satisfied: charset-normalizer<4,>=2 in /usr/local/lib/python3.10/dist-packages (from requests<3.0.0,>=2.31.0->together) (3.3.2)\n",
            "Requirement already satisfied: idna<4,>=2.5 in /usr/local/lib/python3.10/dist-packages (from requests<3.0.0,>=2.31.0->together) (3.10)\n",
            "Requirement already satisfied: urllib3<3,>=1.21.1 in /usr/local/lib/python3.10/dist-packages (from requests<3.0.0,>=2.31.0->together) (2.0.7)\n",
            "Requirement already satisfied: certifi>=2017.4.17 in /usr/local/lib/python3.10/dist-packages (from requests<3.0.0,>=2.31.0->together) (2024.8.30)\n",
            "Requirement already satisfied: shellingham>=1.3.0 in /usr/local/lib/python3.10/dist-packages (from typer<0.13,>=0.9->together) (1.5.4)\n",
            "Requirement already satisfied: rich>=10.11.0 in /usr/local/lib/python3.10/dist-packages (from typer<0.13,>=0.9->together) (13.8.1)\n",
            "Requirement already satisfied: markdown-it-py>=2.2.0 in /usr/local/lib/python3.10/dist-packages (from rich>=10.11.0->typer<0.13,>=0.9->together) (3.0.0)\n",
            "Requirement already satisfied: pygments<3.0.0,>=2.13.0 in /usr/local/lib/python3.10/dist-packages (from rich>=10.11.0->typer<0.13,>=0.9->together) (2.18.0)\n",
            "Requirement already satisfied: mdurl~=0.1 in /usr/local/lib/python3.10/dist-packages (from markdown-it-py>=2.2.0->rich>=10.11.0->typer<0.13,>=0.9->together) (0.1.2)\n"
          ]
        }
      ],
      "source": [
        "!pip install together --upgrade"
      ]
    },
    {
      "cell_type": "code",
      "source": [
        "from together import Together\n",
        "import csv\n",
        "import os\n",
        "\n",
        "# Initialize the client with your API key\n",
        "client = Together(api_key=\"\")\n",
        "\n",
        "# Function to get user input for the query\n",
        "def get_user_query():\n",
        "    return input(\"Enter your query: \")\n",
        "\n",
        "# Function to get user-defined documents\n",
        "def get_documents():\n",
        "    documents = []\n",
        "    print(\"Enter documents (type 'done' when finished):\")\n",
        "    while True:\n",
        "        doc = input(\"Document: \")\n",
        "        if doc.lower() == 'done':\n",
        "            break\n",
        "        documents.append(doc)\n",
        "    return documents\n",
        "\n",
        "# Function to get user-defined number of top results\n",
        "def get_top_n():\n",
        "    while True:\n",
        "        try:\n",
        "            top_n = int(input(\"Enter the number of top results to return: \"))\n",
        "            if top_n > 0:\n",
        "                return top_n\n",
        "            else:\n",
        "                print(\"Please enter a positive integer.\")\n",
        "        except ValueError:\n",
        "            print(\"Invalid input. Please enter a number.\")\n",
        "\n",
        "# Function to get model choice\n",
        "def get_model_choice():\n",
        "    models = [\"Salesforce/Llama-Rank-V1\", \"another/model\", \"yet/another/model\"]\n",
        "    print(\"Available models:\")\n",
        "    for i, model in enumerate(models):\n",
        "        print(f\"{i + 1}: {model}\")\n",
        "    choice = int(input(\"Select a model by number: \")) - 1\n",
        "    return models[choice]\n",
        "\n",
        "# Function to save results to a specified file format\n",
        "def save_results(results, documents, format='txt'):\n",
        "    filename = f'ranked_results.{format}'\n",
        "    with open(filename, 'w', newline='') as f:\n",
        "        if format == 'csv':\n",
        "            writer = csv.writer(f)\n",
        "            writer.writerow(['Document Index', 'Document', 'Relevance Score'])\n",
        "            for result in results:\n",
        "                writer.writerow([result.index, documents[result.index], f\"{result.relevance_score:.4f}\"])\n",
        "        else:\n",
        "            for result in results:\n",
        "                f.write(f\"Document Index: {result.index}\\n\")\n",
        "                f.write(f\"Document: {documents[result.index]}\\n\")\n",
        "                f.write(f\"Relevance Score: {result.relevance_score:.4f}\\n\\n\")\n",
        "\n",
        "    print(f\"\\nResults saved to '{filename}'.\")\n",
        "\n",
        "# Get user input\n",
        "query = get_user_query()\n",
        "documents = get_documents()\n",
        "top_n = get_top_n()\n",
        "model = get_model_choice()\n",
        "\n",
        "# Use the rerank API to rank documents based on relevance to the query\n",
        "try:\n",
        "    response = client.rerank.create(\n",
        "        model=model,\n",
        "        query=query,\n",
        "        documents=documents,\n",
        "        top_n=top_n\n",
        "    )\n",
        "\n",
        "    # Print the results in a structured format\n",
        "    print(\"\\nRanked Results:\")\n",
        "    for result in response.results:\n",
        "        print(f\"\\nDocument Index: {result.index}\")\n",
        "        print(f\"Document: {documents[result.index][:50]}...\")  # Show a preview of the document\n",
        "        print(f\"Relevance Score: {result.relevance_score:.4f}\")\n",
        "\n",
        "    # Ask the user for output format\n",
        "    output_format = input(\"Choose output format (txt/csv): \").strip().lower()\n",
        "    if output_format not in ['txt', 'csv']:\n",
        "        print(\"Invalid format, saving as txt by default.\")\n",
        "        output_format = 'txt'\n",
        "\n",
        "    save_results(response.results, documents, format=output_format)\n",
        "\n",
        "except Exception as e:\n",
        "    print(f\"An error occurred: {e}\")\n",
        "\n",
        "# Save search history\n",
        "history_file = 'search_history.txt'\n",
        "with open(history_file, 'a') as f:\n",
        "    f.write(f\"Query: {query}\\n\")\n",
        "    f.write(f\"Documents: {', '.join(documents)}\\n\")\n",
        "    f.write(f\"Top Results: {top_n}\\n\")\n",
        "    f.write(f\"Selected Model: {model}\\n\")\n",
        "    f.write(\"\\n\")\n",
        "print(f\"Search history saved to '{history_file}'.\")\n"
      ],
      "metadata": {
        "colab": {
          "base_uri": "https://localhost:8080/"
        },
        "id": "-sHpUTBg73x5",
        "outputId": "ca17512e-43c8-46f8-d8d1-26cb371ffa0d"
      },
      "execution_count": 6,
      "outputs": [
        {
          "output_type": "stream",
          "name": "stdout",
          "text": [
            "Enter your query: What types of animals are found in South America?\n",
            "Enter documents (type 'done' when finished):\n",
            "Document: The jaguar (Panthera onca) is a large felid species native to the Americas. It is found primarily in the Amazon rainforest, making it an important part of the ecosystem.\n",
            "Document: The capybara (Hydrochoerus hydrochaeris) is the largest rodent in the world and is native to South America. They are often found near bodies of water.\n",
            "Document: The green anaconda (Eunectes murinus) is a large snake species found in tropical South America. It is known for its size and aquatic nature.\n",
            "Document: The toucan is a colorful bird native to Central and South America, known for its large bill and vibrant plumage.\n",
            "Document: done\n",
            "Enter the number of top results to return: 5\n",
            "Available models:\n",
            "1: Salesforce/Llama-Rank-V1\n",
            "2: another/model\n",
            "3: yet/another/model\n",
            "Select a model by number: 1\n",
            "\n",
            "Ranked Results:\n",
            "\n",
            "Document Index: 2\n",
            "Document: The green anaconda (Eunectes murinus) is a large s...\n",
            "Relevance Score: 0.4658\n",
            "\n",
            "Document Index: 1\n",
            "Document: The capybara (Hydrochoerus hydrochaeris) is the la...\n",
            "Relevance Score: 0.4463\n",
            "\n",
            "Document Index: 3\n",
            "Document: The toucan is a colorful bird native to Central an...\n",
            "Relevance Score: 0.3219\n",
            "\n",
            "Document Index: 0\n",
            "Document: The jaguar (Panthera onca) is a large felid specie...\n",
            "Relevance Score: 0.3094\n",
            "Choose output format (txt/csv): csv\n",
            "\n",
            "Results saved to 'ranked_results.csv'.\n",
            "Search history saved to 'search_history.txt'.\n"
          ]
        }
      ]
    }
  ]
}